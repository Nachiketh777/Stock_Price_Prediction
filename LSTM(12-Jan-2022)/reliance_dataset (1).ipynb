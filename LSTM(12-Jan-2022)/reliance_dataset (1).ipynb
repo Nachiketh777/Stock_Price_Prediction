{
 "cells": [
  {
   "cell_type": "code",
   "execution_count": 3,
   "id": "6df7bfd5",
   "metadata": {},
   "outputs": [],
   "source": [
    "from datetime import date\n",
    "import pandas as pd\n",
    "import numpy as np\n",
    "from nsepy import get_history"
   ]
  },
  {
   "cell_type": "code",
   "execution_count": 4,
   "id": "14ddafc0",
   "metadata": {},
   "outputs": [
    {
     "name": "stdout",
     "output_type": "stream",
     "text": [
      "              Symbol Series  Prev Close     Open    High      Low     Last  \\\n",
      "Date                                                                         \n",
      "2017-01-02  RELIANCE     EQ     1082.40  1084.00  1090.0  1072.35  1086.70   \n",
      "2017-01-03  RELIANCE     EQ     1085.10  1089.85  1097.0  1081.10  1089.00   \n",
      "2017-01-04  RELIANCE     EQ     1089.40  1092.90  1093.0  1064.30  1067.15   \n",
      "2017-01-05  RELIANCE     EQ     1067.15  1071.00  1079.9  1068.75  1077.00   \n",
      "2017-01-06  RELIANCE     EQ     1077.40  1074.20  1085.0  1073.10  1073.95   \n",
      "...              ...    ...         ...      ...     ...      ...      ...   \n",
      "2022-12-26  RELIANCE     EQ     2502.20  2514.75  2542.0  2492.40  2525.00   \n",
      "2022-12-27  RELIANCE     EQ     2524.05  2530.00  2548.8  2515.25  2542.70   \n",
      "2022-12-28  RELIANCE     EQ     2544.70  2538.00  2549.8  2521.50  2542.00   \n",
      "2022-12-29  RELIANCE     EQ     2544.45  2527.00  2548.9  2525.50  2544.95   \n",
      "2022-12-30  RELIANCE     EQ     2543.30  2545.10  2577.0  2541.10  2547.00   \n",
      "\n",
      "              Close     VWAP   Volume      Turnover  Trades  \\\n",
      "Date                                                          \n",
      "2017-01-02  1085.10  1086.63  1622458  1.763016e+14   38903   \n",
      "2017-01-03  1089.40  1091.74  1470751  1.605682e+14   31291   \n",
      "2017-01-04  1067.15  1072.39  2375547  2.547514e+14   70540   \n",
      "2017-01-05  1077.40  1077.12  1996483  2.150452e+14   84058   \n",
      "2017-01-06  1074.95  1078.77  1793427  1.934704e+14   66643   \n",
      "...             ...      ...      ...           ...     ...   \n",
      "2022-12-26  2524.05  2523.81  2764496  6.977059e+14  117927   \n",
      "2022-12-27  2544.70  2534.62  2659749  6.741453e+14  138609   \n",
      "2022-12-28  2544.45  2537.68  3442509  8.735979e+14  158888   \n",
      "2022-12-29  2543.30  2536.86  3198493  8.114145e+14  124496   \n",
      "2022-12-30  2547.20  2559.73  3364092  8.611164e+14  147642   \n",
      "\n",
      "            Deliverable Volume  %Deliverble  \n",
      "Date                                         \n",
      "2017-01-02              881915       0.5436  \n",
      "2017-01-03              776985       0.5283  \n",
      "2017-01-04             1516724       0.6385  \n",
      "2017-01-05             1272212       0.6372  \n",
      "2017-01-06             1121595       0.6254  \n",
      "...                        ...          ...  \n",
      "2022-12-26             1225057       0.4431  \n",
      "2022-12-27             1246382       0.4686  \n",
      "2022-12-28             1908597       0.5544  \n",
      "2022-12-29             1608415       0.5029  \n",
      "2022-12-30             1557651       0.4630  \n",
      "\n",
      "[1487 rows x 14 columns]\n"
     ]
    }
   ],
   "source": [
    "data3=get_history('RELIANCE',date(2017,1,1),date(2022,12,31))\n",
    "print(data3)"
   ]
  },
  {
   "cell_type": "code",
   "execution_count": 5,
   "id": "bc6e6f0c",
   "metadata": {},
   "outputs": [],
   "source": [
    "data3.to_csv('RELIANCE')"
   ]
  },
  {
   "cell_type": "code",
   "execution_count": null,
   "id": "e0609cea",
   "metadata": {},
   "outputs": [],
   "source": []
  }
 ],
 "metadata": {
  "kernelspec": {
   "display_name": "Python 3 (ipykernel)",
   "language": "python",
   "name": "python3"
  },
  "language_info": {
   "codemirror_mode": {
    "name": "ipython",
    "version": 3
   },
   "file_extension": ".py",
   "mimetype": "text/x-python",
   "name": "python",
   "nbconvert_exporter": "python",
   "pygments_lexer": "ipython3",
   "version": "3.9.13"
  }
 },
 "nbformat": 4,
 "nbformat_minor": 5
}
