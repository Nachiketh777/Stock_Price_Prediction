{
 "cells": [
  {
   "cell_type": "code",
   "execution_count": 2,
   "id": "da3b3342",
   "metadata": {},
   "outputs": [],
   "source": [
    "from datetime import date\n",
    "import pandas as pd\n",
    "import numpy as np\n",
    "from nsepy import get_history"
   ]
  },
  {
   "cell_type": "code",
   "execution_count": 4,
   "id": "2020c4c4",
   "metadata": {},
   "outputs": [
    {
     "name": "stdout",
     "output_type": "stream",
     "text": [
      "                Symbol Series  Prev Close    Open    High     Low    Last  \\\n",
      "Date                                                                        \n",
      "2017-01-02  TATAMOTORS     EQ      472.00  472.00  488.70  469.05  486.55   \n",
      "2017-01-03  TATAMOTORS     EQ      487.05  491.00  492.70  479.90  480.50   \n",
      "2017-01-04  TATAMOTORS     EQ      481.10  484.65  493.70  484.10  487.00   \n",
      "2017-01-05  TATAMOTORS     EQ      486.65  496.00  503.40  495.55  502.00   \n",
      "2017-01-06  TATAMOTORS     EQ      502.15  502.95  507.95  496.25  498.55   \n",
      "...                ...    ...         ...     ...     ...     ...     ...   \n",
      "2022-12-26  TATAMOTORS     EQ      378.35  380.25  390.70  375.20  385.50   \n",
      "2022-12-27  TATAMOTORS     EQ      384.80  390.00  397.45  388.50  395.10   \n",
      "2022-12-28  TATAMOTORS     EQ      394.15  394.00  395.90  390.40  390.75   \n",
      "2022-12-29  TATAMOTORS     EQ      391.30  389.00  390.00  383.05  386.50   \n",
      "2022-12-30  TATAMOTORS     EQ      385.90  391.00  392.20  387.00  388.00   \n",
      "\n",
      "             Close    VWAP    Volume      Turnover  Trades  \\\n",
      "Date                                                         \n",
      "2017-01-02  487.05  479.72   4024156  1.930455e+14   46945   \n",
      "2017-01-03  481.10  486.65   5814518  2.829623e+14   68062   \n",
      "2017-01-04  486.65  489.31   4769872  2.333957e+14   90870   \n",
      "2017-01-05  502.15  500.55   7961242  3.984969e+14  129715   \n",
      "2017-01-06  497.75  501.97   4907475  2.463423e+14   83283   \n",
      "...            ...     ...       ...           ...     ...   \n",
      "2022-12-26  384.80  385.10  16979026  6.538631e+14  243760   \n",
      "2022-12-27  394.15  393.86  14372461  5.660708e+14  189040   \n",
      "2022-12-28  391.30  392.83   8443917  3.317009e+14  153216   \n",
      "2022-12-29  385.90  385.43  15627403  6.023204e+14  239147   \n",
      "2022-12-30  387.95  389.76   9198673  3.585267e+14  132690   \n",
      "\n",
      "            Deliverable Volume  %Deliverble  \n",
      "Date                                         \n",
      "2017-01-02             1155521       0.2871  \n",
      "2017-01-03             2007214       0.3452  \n",
      "2017-01-04             1502217       0.3149  \n",
      "2017-01-05             3150388       0.3957  \n",
      "2017-01-06             1786394       0.3640  \n",
      "...                        ...          ...  \n",
      "2022-12-26             5305213       0.3125  \n",
      "2022-12-27             2709262       0.1885  \n",
      "2022-12-28             2795348       0.3310  \n",
      "2022-12-29             6704995       0.4291  \n",
      "2022-12-30             2724897       0.2962  \n",
      "\n",
      "[1487 rows x 14 columns]\n"
     ]
    }
   ],
   "source": [
    "data=get_history('TATAMOTORS',date(2017,1,1),date(2022,12,31))\n",
    "print(data)"
   ]
  },
  {
   "cell_type": "code",
   "execution_count": 13,
   "id": "b43092bd",
   "metadata": {},
   "outputs": [],
   "source": [
    "data2.to_csv('TATA2')"
   ]
  },
  {
   "cell_type": "code",
   "execution_count": null,
   "id": "512a51c8",
   "metadata": {},
   "outputs": [],
   "source": []
  }
 ],
 "metadata": {
  "kernelspec": {
   "display_name": "Python 3 (ipykernel)",
   "language": "python",
   "name": "python3"
  },
  "language_info": {
   "codemirror_mode": {
    "name": "ipython",
    "version": 3
   },
   "file_extension": ".py",
   "mimetype": "text/x-python",
   "name": "python",
   "nbconvert_exporter": "python",
   "pygments_lexer": "ipython3",
   "version": "3.9.13"
  }
 },
 "nbformat": 4,
 "nbformat_minor": 5
}
