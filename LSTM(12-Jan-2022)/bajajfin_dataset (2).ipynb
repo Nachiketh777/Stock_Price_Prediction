{
 "cells": [
  {
   "cell_type": "code",
   "execution_count": 1,
   "id": "253d5e3f",
   "metadata": {},
   "outputs": [],
   "source": [
    "from datetime import date\n",
    "import pandas as pd\n",
    "import numpy as np\n",
    "from nsepy import get_history"
   ]
  },
  {
   "cell_type": "code",
   "execution_count": 6,
   "id": "88e47bd3",
   "metadata": {},
   "outputs": [
    {
     "name": "stdout",
     "output_type": "stream",
     "text": [
      "                Symbol Series  Prev Close     Open    High      Low     Last  \\\n",
      "Date                                                                           \n",
      "2017-01-02  BAJFINANCE     EQ      842.20   852.00   873.9   842.00   870.50   \n",
      "2017-01-03  BAJFINANCE     EQ      870.05   870.00   889.0   859.25   880.55   \n",
      "2017-01-04  BAJFINANCE     EQ      884.00   887.10   891.0   868.00   871.00   \n",
      "2017-01-05  BAJFINANCE     EQ      871.90   883.35   903.0   875.05   900.30   \n",
      "2017-01-06  BAJFINANCE     EQ      899.75   911.00   914.9   875.90   878.10   \n",
      "...                ...    ...         ...      ...     ...      ...      ...   \n",
      "2022-12-26  BAJFINANCE     EQ     6374.60  6374.65  6469.9  6300.00  6422.00   \n",
      "2022-12-27  BAJFINANCE     EQ     6433.70  6466.00  6530.0  6430.00  6505.00   \n",
      "2022-12-28  BAJFINANCE     EQ     6504.70  6475.00  6570.0  6464.05  6469.00   \n",
      "2022-12-29  BAJFINANCE     EQ     6476.10  6440.00  6520.5  6402.40  6511.00   \n",
      "2022-12-30  BAJFINANCE     EQ     6510.90  6550.00  6719.9  6515.00  6577.00   \n",
      "\n",
      "              Close     VWAP   Volume      Turnover  Trades  \\\n",
      "Date                                                          \n",
      "2017-01-02   870.05   860.91   949967  8.178370e+13   23737   \n",
      "2017-01-03   884.00   873.63  1260264  1.101001e+14   39554   \n",
      "2017-01-04   871.90   875.73   971428  8.507108e+13   37925   \n",
      "2017-01-05   899.75   887.42  1423447  1.263193e+14   35763   \n",
      "2017-01-06   878.45   889.25  4040625  3.593130e+14   43203   \n",
      "...             ...      ...      ...           ...     ...   \n",
      "2022-12-26  6433.70  6410.31   530535  3.400892e+14   59844   \n",
      "2022-12-27  6504.70  6481.84   781035  5.062541e+14   75243   \n",
      "2022-12-28  6476.10  6514.78   755934  4.924742e+14   80800   \n",
      "2022-12-29  6510.90  6452.85   521880  3.367615e+14   49070   \n",
      "2022-12-30  6575.20  6634.90  1520266  1.008681e+15  126767   \n",
      "\n",
      "            Deliverable Volume  %Deliverble  \n",
      "Date                                         \n",
      "2017-01-02              190329       0.2004  \n",
      "2017-01-03              291855       0.2316  \n",
      "2017-01-04              354998       0.3654  \n",
      "2017-01-05              719046       0.5051  \n",
      "2017-01-06              708397       0.1753  \n",
      "...                        ...          ...  \n",
      "2022-12-26              152535       0.2875  \n",
      "2022-12-27              360133       0.4611  \n",
      "2022-12-28              367401       0.4860  \n",
      "2022-12-29              146306       0.2803  \n",
      "2022-12-30              561595       0.3694  \n",
      "\n",
      "[1487 rows x 14 columns]\n"
     ]
    }
   ],
   "source": [
    "data4=get_history('BAJFINANCE',date(2017,1,1),date(2022,12,31))\n",
    "print(data4)"
   ]
  },
  {
   "cell_type": "code",
   "execution_count": 7,
   "id": "d69f6ccb",
   "metadata": {},
   "outputs": [],
   "source": [
    "data4.to_csv('BAJAJ_FIN')"
   ]
  },
  {
   "cell_type": "code",
   "execution_count": null,
   "id": "6ea191c3",
   "metadata": {},
   "outputs": [],
   "source": []
  }
 ],
 "metadata": {
  "kernelspec": {
   "display_name": "Python 3 (ipykernel)",
   "language": "python",
   "name": "python3"
  },
  "language_info": {
   "codemirror_mode": {
    "name": "ipython",
    "version": 3
   },
   "file_extension": ".py",
   "mimetype": "text/x-python",
   "name": "python",
   "nbconvert_exporter": "python",
   "pygments_lexer": "ipython3",
   "version": "3.9.13"
  }
 },
 "nbformat": 4,
 "nbformat_minor": 5
}
