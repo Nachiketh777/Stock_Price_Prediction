{
 "cells": [
  {
   "cell_type": "code",
   "execution_count": 1,
   "id": "019a40cf",
   "metadata": {},
   "outputs": [],
   "source": [
    "import numpy as np\n",
    "import pandas as pd\n",
    "import matplotlib.pyplot as plt\n",
    "from sklearn.preprocessing import MinMaxScaler\n",
    "from keras.models import Sequential\n",
    "from keras.layers import Dense,LSTM,Dropout"
   ]
  },
  {
   "cell_type": "code",
   "execution_count": 2,
   "id": "de0f7174",
   "metadata": {},
   "outputs": [
    {
     "data": {
      "text/html": [
       "<div>\n",
       "<style scoped>\n",
       "    .dataframe tbody tr th:only-of-type {\n",
       "        vertical-align: middle;\n",
       "    }\n",
       "\n",
       "    .dataframe tbody tr th {\n",
       "        vertical-align: top;\n",
       "    }\n",
       "\n",
       "    .dataframe thead th {\n",
       "        text-align: right;\n",
       "    }\n",
       "</style>\n",
       "<table border=\"1\" class=\"dataframe\">\n",
       "  <thead>\n",
       "    <tr style=\"text-align: right;\">\n",
       "      <th></th>\n",
       "      <th>Date</th>\n",
       "      <th>Symbol</th>\n",
       "      <th>Open</th>\n",
       "      <th>High</th>\n",
       "      <th>Low</th>\n",
       "      <th>Close</th>\n",
       "      <th>Volume</th>\n",
       "    </tr>\n",
       "  </thead>\n",
       "  <tbody>\n",
       "    <tr>\n",
       "      <th>0</th>\n",
       "      <td>2010-01-04</td>\n",
       "      <td>ADANIENT</td>\n",
       "      <td>437.2</td>\n",
       "      <td>454.00</td>\n",
       "      <td>433.0</td>\n",
       "      <td>451.60</td>\n",
       "      <td>285126</td>\n",
       "    </tr>\n",
       "    <tr>\n",
       "      <th>1</th>\n",
       "      <td>2010-01-05</td>\n",
       "      <td>ADANIENT</td>\n",
       "      <td>453.0</td>\n",
       "      <td>463.95</td>\n",
       "      <td>453.0</td>\n",
       "      <td>462.05</td>\n",
       "      <td>349511</td>\n",
       "    </tr>\n",
       "    <tr>\n",
       "      <th>2</th>\n",
       "      <td>2010-01-06</td>\n",
       "      <td>ADANIENT</td>\n",
       "      <td>463.0</td>\n",
       "      <td>517.00</td>\n",
       "      <td>460.0</td>\n",
       "      <td>507.65</td>\n",
       "      <td>1122953</td>\n",
       "    </tr>\n",
       "    <tr>\n",
       "      <th>3</th>\n",
       "      <td>2010-01-07</td>\n",
       "      <td>ADANIENT</td>\n",
       "      <td>519.4</td>\n",
       "      <td>519.40</td>\n",
       "      <td>483.0</td>\n",
       "      <td>486.70</td>\n",
       "      <td>729468</td>\n",
       "    </tr>\n",
       "    <tr>\n",
       "      <th>4</th>\n",
       "      <td>2010-01-08</td>\n",
       "      <td>ADANIENT</td>\n",
       "      <td>489.8</td>\n",
       "      <td>508.00</td>\n",
       "      <td>482.2</td>\n",
       "      <td>492.85</td>\n",
       "      <td>509498</td>\n",
       "    </tr>\n",
       "  </tbody>\n",
       "</table>\n",
       "</div>"
      ],
      "text/plain": [
       "         Date    Symbol   Open    High    Low   Close   Volume\n",
       "0  2010-01-04  ADANIENT  437.2  454.00  433.0  451.60   285126\n",
       "1  2010-01-05  ADANIENT  453.0  463.95  453.0  462.05   349511\n",
       "2  2010-01-06  ADANIENT  463.0  517.00  460.0  507.65  1122953\n",
       "3  2010-01-07  ADANIENT  519.4  519.40  483.0  486.70   729468\n",
       "4  2010-01-08  ADANIENT  489.8  508.00  482.2  492.85   509498"
      ]
     },
     "execution_count": 2,
     "metadata": {},
     "output_type": "execute_result"
    }
   ],
   "source": [
    "data=pd.read_csv('adanitrain.csv')\n",
    "data.head()"
   ]
  },
  {
   "cell_type": "code",
   "execution_count": 3,
   "id": "5868e286",
   "metadata": {},
   "outputs": [
    {
     "name": "stdout",
     "output_type": "stream",
     "text": [
      "<class 'pandas.core.frame.DataFrame'>\n",
      "RangeIndex: 1990 entries, 0 to 1989\n",
      "Data columns (total 7 columns):\n",
      " #   Column  Non-Null Count  Dtype  \n",
      "---  ------  --------------  -----  \n",
      " 0   Date    1990 non-null   object \n",
      " 1   Symbol  1990 non-null   object \n",
      " 2   Open    1990 non-null   float64\n",
      " 3   High    1990 non-null   float64\n",
      " 4   Low     1990 non-null   float64\n",
      " 5   Close   1990 non-null   float64\n",
      " 6   Volume  1990 non-null   int64  \n",
      "dtypes: float64(4), int64(1), object(2)\n",
      "memory usage: 109.0+ KB\n"
     ]
    }
   ],
   "source": [
    "data.info()"
   ]
  },
  {
   "cell_type": "code",
   "execution_count": 4,
   "id": "941bb5bf",
   "metadata": {},
   "outputs": [],
   "source": [
    "data[\"Close\"]=pd.to_numeric(data.Close,errors='coerce')\n",
    "data=data.dropna()\n",
    "trainData=data.iloc[:,4:5].values"
   ]
  },
  {
   "cell_type": "code",
   "execution_count": 5,
   "id": "a29c674a",
   "metadata": {},
   "outputs": [
    {
     "name": "stdout",
     "output_type": "stream",
     "text": [
      "<class 'pandas.core.frame.DataFrame'>\n",
      "RangeIndex: 1990 entries, 0 to 1989\n",
      "Data columns (total 7 columns):\n",
      " #   Column  Non-Null Count  Dtype  \n",
      "---  ------  --------------  -----  \n",
      " 0   Date    1990 non-null   object \n",
      " 1   Symbol  1990 non-null   object \n",
      " 2   Open    1990 non-null   float64\n",
      " 3   High    1990 non-null   float64\n",
      " 4   Low     1990 non-null   float64\n",
      " 5   Close   1990 non-null   float64\n",
      " 6   Volume  1990 non-null   int64  \n",
      "dtypes: float64(4), int64(1), object(2)\n",
      "memory usage: 109.0+ KB\n"
     ]
    }
   ],
   "source": [
    "data.info()"
   ]
  },
  {
   "cell_type": "code",
   "execution_count": 6,
   "id": "592acd07",
   "metadata": {},
   "outputs": [
    {
     "data": {
      "text/plain": [
       "(1990, 1)"
      ]
     },
     "execution_count": 6,
     "metadata": {},
     "output_type": "execute_result"
    }
   ],
   "source": [
    "sc=MinMaxScaler(feature_range=(0,1))\n",
    "trainData=sc.fit_transform(trainData)\n",
    "trainData.shape"
   ]
  },
  {
   "cell_type": "code",
   "execution_count": 7,
   "id": "3d5bc2a0",
   "metadata": {},
   "outputs": [],
   "source": [
    "X_train=[]\n",
    "y_train=[]\n",
    "\n",
    "for i in range(60,1149):\n",
    "    X_train.append(trainData[i-60:i,0])\n",
    "    y_train.append(trainData[i,0])\n",
    "    \n",
    "X_train,y_train=np.array(X_train),np.array(y_train)\n",
    "    "
   ]
  },
  {
   "cell_type": "code",
   "execution_count": 8,
   "id": "2eadcd2e",
   "metadata": {},
   "outputs": [
    {
     "data": {
      "text/plain": [
       "(1089, 60, 1)"
      ]
     },
     "execution_count": 8,
     "metadata": {},
     "output_type": "execute_result"
    }
   ],
   "source": [
    "X_train = np.reshape(X_train,(X_train.shape[0],X_train.shape[1],1))\n",
    "X_train.shape"
   ]
  },
  {
   "cell_type": "code",
   "execution_count": 9,
   "id": "58d86a4c",
   "metadata": {},
   "outputs": [],
   "source": [
    "model = Sequential()\n",
    "\n",
    "model.add(LSTM(units=100, return_sequences = True, input_shape =(X_train.shape[1],1)))\n",
    "model.add(Dropout(0.2))\n",
    "\n",
    "model.add(LSTM(units=100, return_sequences = True))\n",
    "model.add(Dropout(0.2))\n",
    "\n",
    "model.add(LSTM(units=100, return_sequences = True))\n",
    "model.add(Dropout(0.2))\n",
    "\n",
    "model.add(LSTM(units=100, return_sequences = False))\n",
    "model.add(Dropout(0.2))\n",
    "\n",
    "model.add(Dense(units =1))\n",
    "model.compile(optimizer='adam',loss=\"mean_squared_error\")\n"
   ]
  },
  {
   "cell_type": "code",
   "execution_count": 10,
   "id": "3393b7e4",
   "metadata": {},
   "outputs": [
    {
     "name": "stdout",
     "output_type": "stream",
     "text": [
      "Epoch 1/20\n",
      "35/35 - 11s - loss: 0.0293 - 11s/epoch - 303ms/step\n",
      "Epoch 2/20\n",
      "35/35 - 5s - loss: 0.0046 - 5s/epoch - 129ms/step\n",
      "Epoch 3/20\n",
      "35/35 - 4s - loss: 0.0056 - 4s/epoch - 128ms/step\n",
      "Epoch 4/20\n",
      "35/35 - 5s - loss: 0.0042 - 5s/epoch - 129ms/step\n",
      "Epoch 5/20\n",
      "35/35 - 4s - loss: 0.0052 - 4s/epoch - 128ms/step\n",
      "Epoch 6/20\n",
      "35/35 - 4s - loss: 0.0035 - 4s/epoch - 126ms/step\n",
      "Epoch 7/20\n",
      "35/35 - 4s - loss: 0.0034 - 4s/epoch - 122ms/step\n",
      "Epoch 8/20\n",
      "35/35 - 4s - loss: 0.0036 - 4s/epoch - 122ms/step\n",
      "Epoch 9/20\n",
      "35/35 - 4s - loss: 0.0044 - 4s/epoch - 124ms/step\n",
      "Epoch 10/20\n",
      "35/35 - 4s - loss: 0.0039 - 4s/epoch - 124ms/step\n",
      "Epoch 11/20\n",
      "35/35 - 4s - loss: 0.0032 - 4s/epoch - 122ms/step\n",
      "Epoch 12/20\n",
      "35/35 - 4s - loss: 0.0034 - 4s/epoch - 126ms/step\n",
      "Epoch 13/20\n",
      "35/35 - 4s - loss: 0.0029 - 4s/epoch - 125ms/step\n",
      "Epoch 14/20\n",
      "35/35 - 4s - loss: 0.0031 - 4s/epoch - 124ms/step\n",
      "Epoch 15/20\n",
      "35/35 - 4s - loss: 0.0031 - 4s/epoch - 122ms/step\n",
      "Epoch 16/20\n",
      "35/35 - 4s - loss: 0.0029 - 4s/epoch - 127ms/step\n",
      "Epoch 17/20\n",
      "35/35 - 4s - loss: 0.0033 - 4s/epoch - 127ms/step\n",
      "Epoch 18/20\n",
      "35/35 - 4s - loss: 0.0032 - 4s/epoch - 124ms/step\n",
      "Epoch 19/20\n",
      "35/35 - 5s - loss: 0.0028 - 5s/epoch - 130ms/step\n",
      "Epoch 20/20\n",
      "35/35 - 4s - loss: 0.0028 - 4s/epoch - 126ms/step\n"
     ]
    }
   ],
   "source": [
    "hist = model.fit(X_train, y_train, epochs = 20, batch_size = 32, verbose=2)"
   ]
  },
  {
   "cell_type": "code",
   "execution_count": 11,
   "id": "5864ef06",
   "metadata": {},
   "outputs": [
    {
     "data": {
      "image/png": "[encoded data removed]",
      "text/plain": [
       "<Figure size 640x480 with 1 Axes>"
      ]
     },
     "metadata": {},
     "output_type": "display_data"
    }
   ],
   "source": [
    "plt.plot(hist.history['loss'])\n",
    "plt.title('Training model loss')\n",
    "plt.ylabel('loss')\n",
    "plt.xlabel('epoch')\n",
    "plt.legend(['train'],loc='upper left')\n",
    "plt.show()"
   ]
  },
  {
   "cell_type": "code",
   "execution_count": 12,
   "id": "149d1d9f",
   "metadata": {},
   "outputs": [
    {
     "data": {
      "text/plain": [
       "(1179, 60, 1)"
      ]
     },
     "execution_count": 12,
     "metadata": {},
     "output_type": "execute_result"
    }
   ],
   "source": [
    "testData = pd.read_csv('adanitest.csv')\n",
    "testData[\"Close\"]=pd.to_numeric(testData.Close,errors='coerce')\n",
    "testData = testData.dropna()\n",
    "testData=testData.iloc[:,4:5]\n",
    "y_test=testData.iloc[60:,0:].values\n",
    "\n",
    "inputClosing=testData.iloc[:,0:].values\n",
    "inputClosing_scaled=sc.transform(inputClosing)\n",
    "inputClosing_scaled.shape\n",
    "X_test=[]\n",
    "length=len(testData)\n",
    "timestep=60\n",
    "for i in range(timestep,length):\n",
    "    X_test.append(inputClosing_scaled[i-timestep:i,0])\n",
    "X_test=np.array(X_test)\n",
    "X_test = np.reshape(X_test,(X_test.shape[0],X_test.shape[1],1))\n",
    "X_test.shape"
   ]
  },
  {
   "cell_type": "code",
   "execution_count": 13,
   "id": "5ea02c8c",
   "metadata": {},
   "outputs": [
    {
     "name": "stdout",
     "output_type": "stream",
     "text": [
      "37/37 [==============================] - 5s 106ms/step\n"
     ]
    },
    {
     "data": {
      "text/plain": [
       "array([[0.11411406],\n",
       "       [0.11463906],\n",
       "       [0.11507092],\n",
       "       ...,\n",
       "       [2.435299  ],\n",
       "       [2.4258952 ],\n",
       "       [2.418414  ]], dtype=float32)"
      ]
     },
     "execution_count": 13,
     "metadata": {},
     "output_type": "execute_result"
    }
   ],
   "source": [
    "y_pred=model.predict(X_test)\n",
    "y_pred"
   ]
  },
  {
   "cell_type": "code",
   "execution_count": 14,
   "id": "69a0b6a1",
   "metadata": {},
   "outputs": [],
   "source": [
    "predicted_price=sc.inverse_transform(y_pred)"
   ]
  },
  {
   "cell_type": "code",
   "execution_count": 15,
   "id": "792c3cd4",
   "metadata": {},
   "outputs": [
    {
     "data": {
      "image/png": "[encoded data removed]",
      "text/plain": [
       "<Figure size 640x480 with 1 Axes>"
      ]
     },
     "metadata": {},
     "output_type": "display_data"
    }
   ],
   "source": [
    "plt.plot(y_test, color = 'red', label = 'Actual Stock Price')\n",
    "plt.plot(predicted_price, color = 'green', label = 'Predicted Stock Price')\n",
    "plt.title('ADANI ENTERPRISE stock price prediction')\n",
    "plt.xlabel('Time')\n",
    "plt.ylabel('Stock Price')\n",
    "plt.legend()\n",
    "plt.show()"
   ]
  },
  {
   "cell_type": "code",
   "execution_count": null,
   "id": "f5951011",
   "metadata": {},
   "outputs": [],
   "source": []
  }
 ],
 "metadata": {
  "kernelspec": {
   "display_name": "Python 3 (ipykernel)",
   "language": "python",
   "name": "python3"
  },
  "language_info": {
   "codemirror_mode": {
    "name": "ipython",
    "version": 3
   },
   "file_extension": ".py",
   "mimetype": "text/x-python",
   "name": "python",
   "nbconvert_exporter": "python",
   "pygments_lexer": "ipython3",
   "version": "3.9.13"
  }
 },
 "nbformat": 4,
 "nbformat_minor": 5
}
