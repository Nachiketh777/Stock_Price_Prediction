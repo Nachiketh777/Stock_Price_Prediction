{
 "cells": [
  {
   "cell_type": "code",
   "execution_count": 1,
   "id": "8f7574ac",
   "metadata": {},
   "outputs": [],
   "source": [
    "import numpy as np\n",
    "import pandas as pd\n",
    "import matplotlib.pyplot as plt\n",
    "from sklearn.preprocessing import MinMaxScaler\n",
    "from keras.models import Sequential\n",
    "from keras.layers import Dense,LSTM,Dropout"
   ]
  },
  {
   "cell_type": "code",
   "execution_count": 2,
   "id": "ce394908",
   "metadata": {},
   "outputs": [
    {
     "data": {
      "text/html": [
       "<div>\n",
       "<style scoped>\n",
       "    .dataframe tbody tr th:only-of-type {\n",
       "        vertical-align: middle;\n",
       "    }\n",
       "\n",
       "    .dataframe tbody tr th {\n",
       "        vertical-align: top;\n",
       "    }\n",
       "\n",
       "    .dataframe thead th {\n",
       "        text-align: right;\n",
       "    }\n",
       "</style>\n",
       "<table border=\"1\" class=\"dataframe\">\n",
       "  <thead>\n",
       "    <tr style=\"text-align: right;\">\n",
       "      <th></th>\n",
       "      <th>Date</th>\n",
       "      <th>Symbol</th>\n",
       "      <th>Open</th>\n",
       "      <th>High</th>\n",
       "      <th>Low</th>\n",
       "      <th>Close</th>\n",
       "      <th>Volume</th>\n",
       "    </tr>\n",
       "  </thead>\n",
       "  <tbody>\n",
       "    <tr>\n",
       "      <th>0</th>\n",
       "      <td>2010-01-04</td>\n",
       "      <td>RELIANCE</td>\n",
       "      <td>1091.1</td>\n",
       "      <td>1091.10</td>\n",
       "      <td>1021.85</td>\n",
       "      <td>1075.50</td>\n",
       "      <td>17520006</td>\n",
       "    </tr>\n",
       "    <tr>\n",
       "      <th>1</th>\n",
       "      <td>2010-01-05</td>\n",
       "      <td>RELIANCE</td>\n",
       "      <td>1149.9</td>\n",
       "      <td>1149.90</td>\n",
       "      <td>1065.40</td>\n",
       "      <td>1070.70</td>\n",
       "      <td>4890040</td>\n",
       "    </tr>\n",
       "    <tr>\n",
       "      <th>2</th>\n",
       "      <td>2010-01-06</td>\n",
       "      <td>RELIANCE</td>\n",
       "      <td>1079.9</td>\n",
       "      <td>1094.50</td>\n",
       "      <td>1070.65</td>\n",
       "      <td>1088.00</td>\n",
       "      <td>5415538</td>\n",
       "    </tr>\n",
       "    <tr>\n",
       "      <th>3</th>\n",
       "      <td>2010-01-07</td>\n",
       "      <td>RELIANCE</td>\n",
       "      <td>1088.0</td>\n",
       "      <td>1115.00</td>\n",
       "      <td>1078.00</td>\n",
       "      <td>1106.05</td>\n",
       "      <td>5988404</td>\n",
       "    </tr>\n",
       "    <tr>\n",
       "      <th>4</th>\n",
       "      <td>2010-01-08</td>\n",
       "      <td>RELIANCE</td>\n",
       "      <td>1108.0</td>\n",
       "      <td>1113.80</td>\n",
       "      <td>1096.00</td>\n",
       "      <td>1103.15</td>\n",
       "      <td>3453926</td>\n",
       "    </tr>\n",
       "    <tr>\n",
       "      <th>...</th>\n",
       "      <td>...</td>\n",
       "      <td>...</td>\n",
       "      <td>...</td>\n",
       "      <td>...</td>\n",
       "      <td>...</td>\n",
       "      <td>...</td>\n",
       "      <td>...</td>\n",
       "    </tr>\n",
       "    <tr>\n",
       "      <th>1490</th>\n",
       "      <td>2015-12-24</td>\n",
       "      <td>RELIANCE</td>\n",
       "      <td>1003.9</td>\n",
       "      <td>1007.20</td>\n",
       "      <td>996.30</td>\n",
       "      <td>1000.55</td>\n",
       "      <td>2720569</td>\n",
       "    </tr>\n",
       "    <tr>\n",
       "      <th>1491</th>\n",
       "      <td>2015-12-28</td>\n",
       "      <td>RELIANCE</td>\n",
       "      <td>1000.6</td>\n",
       "      <td>1013.75</td>\n",
       "      <td>1000.00</td>\n",
       "      <td>1010.40</td>\n",
       "      <td>2945508</td>\n",
       "    </tr>\n",
       "    <tr>\n",
       "      <th>1492</th>\n",
       "      <td>2015-12-29</td>\n",
       "      <td>RELIANCE</td>\n",
       "      <td>1010.4</td>\n",
       "      <td>1018.70</td>\n",
       "      <td>1007.15</td>\n",
       "      <td>1015.40</td>\n",
       "      <td>3409060</td>\n",
       "    </tr>\n",
       "    <tr>\n",
       "      <th>1493</th>\n",
       "      <td>2015-12-30</td>\n",
       "      <td>RELIANCE</td>\n",
       "      <td>1015.0</td>\n",
       "      <td>1016.00</td>\n",
       "      <td>1002.00</td>\n",
       "      <td>1004.50</td>\n",
       "      <td>1863321</td>\n",
       "    </tr>\n",
       "    <tr>\n",
       "      <th>1494</th>\n",
       "      <td>2015-12-31</td>\n",
       "      <td>RELIANCE</td>\n",
       "      <td>1003.4</td>\n",
       "      <td>1019.70</td>\n",
       "      <td>999.10</td>\n",
       "      <td>1014.60</td>\n",
       "      <td>4225066</td>\n",
       "    </tr>\n",
       "  </tbody>\n",
       "</table>\n",
       "<p>1495 rows × 7 columns</p>\n",
       "</div>"
      ],
      "text/plain": [
       "            Date    Symbol    Open     High      Low    Close    Volume\n",
       "0     2010-01-04  RELIANCE  1091.1  1091.10  1021.85  1075.50  17520006\n",
       "1     2010-01-05  RELIANCE  1149.9  1149.90  1065.40  1070.70   4890040\n",
       "2     2010-01-06  RELIANCE  1079.9  1094.50  1070.65  1088.00   5415538\n",
       "3     2010-01-07  RELIANCE  1088.0  1115.00  1078.00  1106.05   5988404\n",
       "4     2010-01-08  RELIANCE  1108.0  1113.80  1096.00  1103.15   3453926\n",
       "...          ...       ...     ...      ...      ...      ...       ...\n",
       "1490  2015-12-24  RELIANCE  1003.9  1007.20   996.30  1000.55   2720569\n",
       "1491  2015-12-28  RELIANCE  1000.6  1013.75  1000.00  1010.40   2945508\n",
       "1492  2015-12-29  RELIANCE  1010.4  1018.70  1007.15  1015.40   3409060\n",
       "1493  2015-12-30  RELIANCE  1015.0  1016.00  1002.00  1004.50   1863321\n",
       "1494  2015-12-31  RELIANCE  1003.4  1019.70   999.10  1014.60   4225066\n",
       "\n",
       "[1495 rows x 7 columns]"
      ]
     },
     "execution_count": 2,
     "metadata": {},
     "output_type": "execute_result"
    }
   ],
   "source": [
    "data=pd.read_csv('rel_train.csv')\n",
    "data"
   ]
  },
  {
   "cell_type": "code",
   "execution_count": 3,
   "id": "2ac0d856",
   "metadata": {},
   "outputs": [
    {
     "name": "stdout",
     "output_type": "stream",
     "text": [
      "<class 'pandas.core.frame.DataFrame'>\n",
      "RangeIndex: 1495 entries, 0 to 1494\n",
      "Data columns (total 7 columns):\n",
      " #   Column  Non-Null Count  Dtype  \n",
      "---  ------  --------------  -----  \n",
      " 0   Date    1495 non-null   object \n",
      " 1   Symbol  1495 non-null   object \n",
      " 2   Open    1495 non-null   float64\n",
      " 3   High    1495 non-null   float64\n",
      " 4   Low     1495 non-null   float64\n",
      " 5   Close   1495 non-null   float64\n",
      " 6   Volume  1495 non-null   int64  \n",
      "dtypes: float64(4), int64(1), object(2)\n",
      "memory usage: 81.9+ KB\n"
     ]
    }
   ],
   "source": [
    "data.info()"
   ]
  },
  {
   "cell_type": "code",
   "execution_count": 4,
   "id": "d5569297",
   "metadata": {},
   "outputs": [],
   "source": [
    "data[\"Close\"]=pd.to_numeric(data.Close,errors='coerce')\n",
    "data=data.dropna()\n",
    "trainData=data.iloc[:,4:5].values"
   ]
  },
  {
   "cell_type": "code",
   "execution_count": 5,
   "id": "ca984b96",
   "metadata": {},
   "outputs": [
    {
     "name": "stdout",
     "output_type": "stream",
     "text": [
      "<class 'pandas.core.frame.DataFrame'>\n",
      "RangeIndex: 1495 entries, 0 to 1494\n",
      "Data columns (total 7 columns):\n",
      " #   Column  Non-Null Count  Dtype  \n",
      "---  ------  --------------  -----  \n",
      " 0   Date    1495 non-null   object \n",
      " 1   Symbol  1495 non-null   object \n",
      " 2   Open    1495 non-null   float64\n",
      " 3   High    1495 non-null   float64\n",
      " 4   Low     1495 non-null   float64\n",
      " 5   Close   1495 non-null   float64\n",
      " 6   Volume  1495 non-null   int64  \n",
      "dtypes: float64(4), int64(1), object(2)\n",
      "memory usage: 81.9+ KB\n"
     ]
    }
   ],
   "source": [
    "data.info()"
   ]
  },
  {
   "cell_type": "code",
   "execution_count": 6,
   "id": "ea5921f3",
   "metadata": {},
   "outputs": [
    {
     "data": {
      "text/plain": [
       "(1495, 1)"
      ]
     },
     "execution_count": 6,
     "metadata": {},
     "output_type": "execute_result"
    }
   ],
   "source": [
    "sc=MinMaxScaler(feature_range=(0,1))\n",
    "trainData=sc.fit_transform(trainData)\n",
    "trainData.shape"
   ]
  },
  {
   "cell_type": "code",
   "execution_count": 7,
   "id": "c3fb0a43",
   "metadata": {},
   "outputs": [],
   "source": [
    "X_train=[]\n",
    "y_train=[]\n",
    "\n",
    "for i in range(60,1149):\n",
    "    X_train.append(trainData[i-60:i,0])\n",
    "    y_train.append(trainData[i,0])\n",
    "    \n",
    "X_train,y_train=np.array(X_train),np.array(y_train)\n",
    "    "
   ]
  },
  {
   "cell_type": "code",
   "execution_count": 8,
   "id": "297cd86c",
   "metadata": {},
   "outputs": [
    {
     "data": {
      "text/plain": [
       "(1089, 60, 1)"
      ]
     },
     "execution_count": 8,
     "metadata": {},
     "output_type": "execute_result"
    }
   ],
   "source": [
    "X_train = np.reshape(X_train,(X_train.shape[0],X_train.shape[1],1))\n",
    "X_train.shape"
   ]
  },
  {
   "cell_type": "code",
   "execution_count": 9,
   "id": "957d7359",
   "metadata": {},
   "outputs": [],
   "source": [
    "model = Sequential()\n",
    "\n",
    "model.add(LSTM(units=100, return_sequences = True, input_shape =(X_train.shape[1],1)))\n",
    "model.add(Dropout(0.2))\n",
    "\n",
    "model.add(LSTM(units=100, return_sequences = True))\n",
    "model.add(Dropout(0.2))\n",
    "\n",
    "model.add(LSTM(units=100, return_sequences = True))\n",
    "model.add(Dropout(0.2))\n",
    "\n",
    "model.add(LSTM(units=100, return_sequences = False))\n",
    "model.add(Dropout(0.2))\n",
    "\n",
    "model.add(Dense(units =1))\n",
    "model.compile(optimizer='adam',loss=\"mean_squared_error\")\n"
   ]
  },
  {
   "cell_type": "code",
   "execution_count": 10,
   "id": "c9745a68",
   "metadata": {},
   "outputs": [
    {
     "name": "stdout",
     "output_type": "stream",
     "text": [
      "Epoch 1/20\n",
      "35/35 - 18s - loss: 0.0354 - 18s/epoch - 516ms/step\n",
      "Epoch 2/20\n",
      "35/35 - 9s - loss: 0.0113 - 9s/epoch - 266ms/step\n",
      "Epoch 3/20\n",
      "35/35 - 9s - loss: 0.0099 - 9s/epoch - 243ms/step\n",
      "Epoch 4/20\n",
      "35/35 - 8s - loss: 0.0088 - 8s/epoch - 240ms/step\n",
      "Epoch 5/20\n",
      "35/35 - 8s - loss: 0.0078 - 8s/epoch - 220ms/step\n",
      "Epoch 6/20\n",
      "35/35 - 7s - loss: 0.0162 - 7s/epoch - 213ms/step\n",
      "Epoch 7/20\n",
      "35/35 - 7s - loss: 0.0079 - 7s/epoch - 202ms/step\n",
      "Epoch 8/20\n",
      "35/35 - 8s - loss: 0.0069 - 8s/epoch - 214ms/step\n",
      "Epoch 9/20\n",
      "35/35 - 8s - loss: 0.0060 - 8s/epoch - 226ms/step\n",
      "Epoch 10/20\n",
      "35/35 - 8s - loss: 0.0060 - 8s/epoch - 226ms/step\n",
      "Epoch 11/20\n",
      "35/35 - 8s - loss: 0.0069 - 8s/epoch - 234ms/step\n",
      "Epoch 12/20\n",
      "35/35 - 8s - loss: 0.0089 - 8s/epoch - 221ms/step\n",
      "Epoch 13/20\n",
      "35/35 - 8s - loss: 0.0055 - 8s/epoch - 220ms/step\n",
      "Epoch 14/20\n",
      "35/35 - 8s - loss: 0.0053 - 8s/epoch - 222ms/step\n",
      "Epoch 15/20\n",
      "35/35 - 8s - loss: 0.0053 - 8s/epoch - 230ms/step\n",
      "Epoch 16/20\n",
      "35/35 - 8s - loss: 0.0058 - 8s/epoch - 225ms/step\n",
      "Epoch 17/20\n",
      "35/35 - 8s - loss: 0.0050 - 8s/epoch - 229ms/step\n",
      "Epoch 18/20\n",
      "35/35 - 8s - loss: 0.0053 - 8s/epoch - 233ms/step\n",
      "Epoch 19/20\n",
      "35/35 - 8s - loss: 0.0053 - 8s/epoch - 224ms/step\n",
      "Epoch 20/20\n",
      "35/35 - 8s - loss: 0.0051 - 8s/epoch - 227ms/step\n"
     ]
    }
   ],
   "source": [
    "hist = model.fit(X_train, y_train, epochs = 20, batch_size = 32, verbose=2)"
   ]
  },
  {
   "cell_type": "code",
   "execution_count": 11,
   "id": "e6f6f0cf",
   "metadata": {},
   "outputs": [
    {
     "data": {
      "image/png": "[encoded data removed]",
      "text/plain": [
       "<Figure size 640x480 with 1 Axes>"
      ]
     },
     "metadata": {},
     "output_type": "display_data"
    }
   ],
   "source": [
    "plt.plot(hist.history['loss'])\n",
    "plt.title('Training model loss')\n",
    "plt.ylabel('loss')\n",
    "plt.xlabel('epoch')\n",
    "plt.legend(['train'],loc='upper left')\n",
    "plt.show()"
   ]
  },
  {
   "cell_type": "code",
   "execution_count": 12,
   "id": "3130c431",
   "metadata": {},
   "outputs": [
    {
     "data": {
      "text/plain": [
       "(1174, 60, 1)"
      ]
     },
     "execution_count": 12,
     "metadata": {},
     "output_type": "execute_result"
    }
   ],
   "source": [
    "testData = pd.read_csv('rel_test.csv')\n",
    "testData[\"Close\"]=pd.to_numeric(testData.Close,errors='coerce')\n",
    "testData = testData.dropna()\n",
    "testData=testData.iloc[:,4:5]\n",
    "y_test=testData.iloc[60:,0:].values\n",
    "\n",
    "inputClosing=testData.iloc[:,0:].values\n",
    "inputClosing_scaled=sc.transform(inputClosing)\n",
    "inputClosing_scaled.shape\n",
    "X_test=[]\n",
    "length=len(testData)\n",
    "timestep=60\n",
    "for i in range(timestep,length):\n",
    "    X_test.append(inputClosing_scaled[i-timestep:i,0])\n",
    "X_test=np.array(X_test)\n",
    "X_test = np.reshape(X_test,(X_test.shape[0],X_test.shape[1],1))\n",
    "X_test.shape"
   ]
  },
  {
   "cell_type": "code",
   "execution_count": 13,
   "id": "41e4eeb6",
   "metadata": {},
   "outputs": [
    {
     "name": "stdout",
     "output_type": "stream",
     "text": [
      "[[[0.46794801]\n",
      "  [0.46939229]\n",
      "  [0.44672814]\n",
      "  ...\n",
      "  [0.37318076]\n",
      "  [0.33562937]\n",
      "  [0.28530163]]\n",
      "\n",
      " [[0.46939229]\n",
      "  [0.44672814]\n",
      "  [0.35318298]\n",
      "  ...\n",
      "  [0.33562937]\n",
      "  [0.28530163]\n",
      "  [0.27419176]]\n",
      "\n",
      " [[0.44672814]\n",
      "  [0.35318298]\n",
      "  [0.36429286]\n",
      "  ...\n",
      "  [0.28530163]\n",
      "  [0.27419176]\n",
      "  [0.32207532]]\n",
      "\n",
      " ...\n",
      "\n",
      " [[1.35751583]\n",
      "  [1.4053994 ]\n",
      "  [1.3781802 ]\n",
      "  ...\n",
      "  [1.96589268]\n",
      "  [1.93189646]\n",
      "  [1.86001555]]\n",
      "\n",
      " [[1.4053994 ]\n",
      "  [1.3781802 ]\n",
      "  [1.3515165 ]\n",
      "  ...\n",
      "  [1.93189646]\n",
      "  [1.86001555]\n",
      "  [1.88479058]]\n",
      "\n",
      " [[1.3781802 ]\n",
      "  [1.3515165 ]\n",
      "  [1.40162204]\n",
      "  ...\n",
      "  [1.86001555]\n",
      "  [1.88479058]\n",
      "  [1.89978891]]]\n"
     ]
    }
   ],
   "source": [
    "print(X_test)"
   ]
  },
  {
   "cell_type": "code",
   "execution_count": 14,
   "id": "02de7d12",
   "metadata": {},
   "outputs": [
    {
     "name": "stdout",
     "output_type": "stream",
     "text": [
      "37/37 [==============================] - 5s 70ms/step\n"
     ]
    },
    {
     "data": {
      "text/plain": [
       "array([[0.377604  ],\n",
       "       [0.36465845],\n",
       "       [0.34965837],\n",
       "       ...,\n",
       "       [1.729396  ],\n",
       "       [1.7053417 ],\n",
       "       [1.6812252 ]], dtype=float32)"
      ]
     },
     "execution_count": 14,
     "metadata": {},
     "output_type": "execute_result"
    }
   ],
   "source": [
    "y_pred=model.predict(X_test)\n",
    "y_pred"
   ]
  },
  {
   "cell_type": "code",
   "execution_count": 15,
   "id": "51341710",
   "metadata": {},
   "outputs": [],
   "source": [
    "predicted_price=sc.inverse_transform(y_pred)"
   ]
  },
  {
   "cell_type": "code",
   "execution_count": 16,
   "id": "aecbf183",
   "metadata": {},
   "outputs": [
    {
     "data": {
      "image/png": "[encoded data removed]",
      "text/plain": [
       "<Figure size 640x480 with 1 Axes>"
      ]
     },
     "metadata": {},
     "output_type": "display_data"
    }
   ],
   "source": [
    "plt.plot(y_test, color = 'red', label = 'Actual Stock Price')\n",
    "plt.plot(predicted_price, color = 'green', label = 'Predicted Stock Price')\n",
    "plt.title('RELIACNCE stock price prediction')\n",
    "plt.xlabel('Time')\n",
    "plt.ylabel('Stock Price')\n",
    "plt.legend()\n",
    "plt.show()"
   ]
  },
  {
   "cell_type": "code",
   "execution_count": 17,
   "id": "d376592e",
   "metadata": {},
   "outputs": [
    {
     "data": {
      "text/plain": [
       "array([0.8931758], dtype=float32)"
      ]
     },
     "execution_count": 17,
     "metadata": {},
     "output_type": "execute_result"
    }
   ],
   "source": [
    "sum(y_pred)/len(y_pred)"
   ]
  },
  {
   "cell_type": "code",
   "execution_count": 18,
   "id": "24466e87",
   "metadata": {},
   "outputs": [],
   "source": [
    "cutoff=1\n",
    "y_pred_classes = np.zeros_like(y_pred)\n",
    "y_pred_classes[y_pred>cutoff]=1"
   ]
  },
  {
   "cell_type": "code",
   "execution_count": 19,
   "id": "b924f810",
   "metadata": {},
   "outputs": [
    {
     "data": {
      "text/plain": [
       "array([1097.11166951])"
      ]
     },
     "execution_count": 19,
     "metadata": {},
     "output_type": "execute_result"
    }
   ],
   "source": [
    "sum(y_test)/len(y_test)"
   ]
  },
  {
   "cell_type": "code",
   "execution_count": 20,
   "id": "3eaf1f02",
   "metadata": {},
   "outputs": [],
   "source": [
    "cutoff=1097\n",
    "y_test_classes = np.zeros_like(y_test)\n",
    "y_test_classes[y_test > cutoff] = 1"
   ]
  },
  {
   "cell_type": "code",
   "execution_count": 21,
   "id": "9165b260",
   "metadata": {},
   "outputs": [
    {
     "data": {
      "image/png": "[encoded data removed]",
      "text/plain": [
       "<Figure size 640x480 with 2 Axes>"
      ]
     },
     "metadata": {},
     "output_type": "display_data"
    }
   ],
   "source": [
    "import matplotlib.pyplot as plt\n",
    "import numpy\n",
    "from sklearn import metrics\n",
    "confusion_matrix = metrics.confusion_matrix(y_test_classes,y_pred_classes)\n",
    "cm_display = metrics.ConfusionMatrixDisplay(confusion_matrix = confusion_matrix, display_labels = [False, True])\n",
    "cm_display.plot()\n",
    "plt.show()"
   ]
  },
  {
   "cell_type": "code",
   "execution_count": 22,
   "id": "dbe61f63",
   "metadata": {},
   "outputs": [
    {
     "data": {
      "text/plain": [
       "1174"
      ]
     },
     "execution_count": 22,
     "metadata": {},
     "output_type": "execute_result"
    }
   ],
   "source": [
    "len(y_pred)"
   ]
  },
  {
   "cell_type": "code",
   "execution_count": null,
   "id": "1c3b260a",
   "metadata": {},
   "outputs": [],
   "source": []
  }
 ],
 "metadata": {
  "kernelspec": {
   "display_name": "Python 3 (ipykernel)",
   "language": "python",
   "name": "python3"
  },
  "language_info": {
   "codemirror_mode": {
    "name": "ipython",
    "version": 3
   },
   "file_extension": ".py",
   "mimetype": "text/x-python",
   "name": "python",
   "nbconvert_exporter": "python",
   "pygments_lexer": "ipython3",
   "version": "3.9.13"
  }
 },
 "nbformat": 4,
 "nbformat_minor": 5
}
