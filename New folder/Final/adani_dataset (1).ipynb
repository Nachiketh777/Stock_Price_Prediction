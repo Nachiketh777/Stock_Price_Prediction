{
 "cells": [
  {
   "cell_type": "code",
   "execution_count": 1,
   "id": "62aff69f",
   "metadata": {},
   "outputs": [],
   "source": [
    "from datetime import date\n",
    "import pandas as pd\n",
    "import numpy as np\n",
    "from nsepy import get_history"
   ]
  },
  {
   "cell_type": "code",
   "execution_count": 2,
   "id": "b2a917f3",
   "metadata": {},
   "outputs": [
    {
     "name": "stdout",
     "output_type": "stream",
     "text": [
      "              Symbol Series  Prev Close     Open    High      Low     Last  \\\n",
      "Date                                                                         \n",
      "2017-01-02  ADANIENT     EQ       76.55    77.80    77.8    76.35    77.05   \n",
      "2017-01-03  ADANIENT     EQ       76.95    77.10    77.4    75.80    76.50   \n",
      "2017-01-04  ADANIENT     EQ       76.55    77.00    78.8    76.80    77.95   \n",
      "2017-01-05  ADANIENT     EQ       77.80    78.50    79.6    78.20    79.20   \n",
      "2017-01-06  ADANIENT     EQ       79.15    79.20    79.9    78.40    78.80   \n",
      "...              ...    ...         ...      ...     ...      ...      ...   \n",
      "2022-12-26  ADANIENT     EQ     3642.20  3653.00  3744.9  3620.00  3709.00   \n",
      "2022-12-27  ADANIENT     EQ     3716.75  3732.45  3797.9  3695.05  3767.15   \n",
      "2022-12-28  ADANIENT     EQ     3769.65  3756.05  3825.0  3745.00  3797.95   \n",
      "2022-12-29  ADANIENT     EQ     3797.70  3790.00  3825.0  3748.10  3815.35   \n",
      "2022-12-30  ADANIENT     EQ     3810.60  3829.70  3898.0  3822.05  3850.00   \n",
      "\n",
      "              Close     VWAP   Volume      Turnover  Trades  \\\n",
      "Date                                                          \n",
      "2017-01-02    76.95    76.97  2296460  1.767633e+13   14167   \n",
      "2017-01-03    76.55    76.77  1259423  9.668896e+12    5890   \n",
      "2017-01-04    77.80    77.78  2179592  1.695223e+13    8930   \n",
      "2017-01-05    79.15    79.01  2308694  1.824163e+13   10426   \n",
      "2017-01-06    78.65    78.92  1160629  9.159617e+12    5981   \n",
      "...             ...      ...      ...           ...     ...   \n",
      "2022-12-26  3716.75  3711.03  2162662  8.025705e+14   99922   \n",
      "2022-12-27  3769.65  3740.71  1804911  6.751643e+14   72966   \n",
      "2022-12-28  3797.70  3784.81  1377950  5.215278e+14   58991   \n",
      "2022-12-29  3810.60  3790.66  1531692  5.806125e+14   67660   \n",
      "2022-12-30  3858.35  3858.43  1528747  5.898558e+14   59598   \n",
      "\n",
      "            Deliverable Volume  %Deliverble  \n",
      "Date                                         \n",
      "2017-01-02              442182       0.1925  \n",
      "2017-01-03              190716       0.1514  \n",
      "2017-01-04              490008       0.2248  \n",
      "2017-01-05              592235       0.2565  \n",
      "2017-01-06              307923       0.2653  \n",
      "...                        ...          ...  \n",
      "2022-12-26              331446       0.1533  \n",
      "2022-12-27              332734       0.1843  \n",
      "2022-12-28              274785       0.1994  \n",
      "2022-12-29              379396       0.2477  \n",
      "2022-12-30              239908       0.1569  \n",
      "\n",
      "[1487 rows x 14 columns]\n"
     ]
    }
   ],
   "source": [
    "data5=get_history('ADANIENT',date(2017,1,1),date(2022,12,31))\n",
    "print(data5)"
   ]
  },
  {
   "cell_type": "code",
   "execution_count": 3,
   "id": "c08d4de1",
   "metadata": {},
   "outputs": [],
   "source": [
    "data5.to_csv('ADANIENT')"
   ]
  },
  {
   "cell_type": "code",
   "execution_count": null,
   "id": "1509596f",
   "metadata": {},
   "outputs": [],
   "source": []
  }
 ],
 "metadata": {
  "kernelspec": {
   "display_name": "Python 3 (ipykernel)",
   "language": "python",
   "name": "python3"
  },
  "language_info": {
   "codemirror_mode": {
    "name": "ipython",
    "version": 3
   },
   "file_extension": ".py",
   "mimetype": "text/x-python",
   "name": "python",
   "nbconvert_exporter": "python",
   "pygments_lexer": "ipython3",
   "version": "3.9.13"
  }
 },
 "nbformat": 4,
 "nbformat_minor": 5
}
